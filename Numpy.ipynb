{
  "nbformat": 4,
  "nbformat_minor": 0,
  "metadata": {
    "colab": {
      "provenance": [],
      "authorship_tag": "ABX9TyPH5/DZYsB94sJZeeEThtJM",
      "include_colab_link": true
    },
    "kernelspec": {
      "name": "python3",
      "display_name": "Python 3"
    },
    "language_info": {
      "name": "python"
    }
  },
  "cells": [
    {
      "cell_type": "markdown",
      "metadata": {
        "id": "view-in-github",
        "colab_type": "text"
      },
      "source": [
        "<a href=\"https://colab.research.google.com/github/ZarinSaima333/numpy_practice/blob/main/Numpy.ipynb\" target=\"_parent\"><img src=\"https://colab.research.google.com/assets/colab-badge.svg\" alt=\"Open In Colab\"/></a>"
      ]
    },
    {
      "cell_type": "code",
      "source": [
        "#to install numpy in google collab\n",
        "pip install numpy\n"
      ],
      "metadata": {
        "colab": {
          "base_uri": "https://localhost:8080/",
          "height": 140
        },
        "id": "04TO1nNWh7nm",
        "outputId": "dfb1e478-b34f-4ce5-c661-83d03f02fda2"
      },
      "execution_count": null,
      "outputs": [
        {
          "output_type": "error",
          "ename": "SyntaxError",
          "evalue": "ignored",
          "traceback": [
            "\u001b[0;36m  File \u001b[0;32m\"<ipython-input-4-c7d408219820>\"\u001b[0;36m, line \u001b[0;32m2\u001b[0m\n\u001b[0;31m    pip install numpy\u001b[0m\n\u001b[0m        ^\u001b[0m\n\u001b[0;31mSyntaxError\u001b[0m\u001b[0;31m:\u001b[0m invalid syntax\n"
          ]
        }
      ]
    },
    {
      "cell_type": "code",
      "source": [
        "import numpy as np\n",
        "import time\n",
        "import sys"
      ],
      "metadata": {
        "id": "yxWf4hRXhT7U"
      },
      "execution_count": null,
      "outputs": []
    },
    {
      "cell_type": "markdown",
      "source": [
        "# Why NumPy is better than list?"
      ],
      "metadata": {
        "id": "7krbwx1IJBQ_"
      }
    },
    {
      "cell_type": "markdown",
      "source": [
        "#Takes less space"
      ],
      "metadata": {
        "id": "2Ur4oEkgJMq5"
      }
    },
    {
      "cell_type": "code",
      "source": [
        "lis=range(1000) #a list of 1000 element\n",
        "\n",
        "#print(lis) #range(0, 1000)\n",
        "#print(sys.getsizeof(5)) #any num would give 28\n",
        "#print(len(lis))#1000\n",
        "print(sys.getsizeof(1)*len(lis))# 5 denotes element num\n",
        "\n",
        "arr=np.arange(1000)#same as range func, gonna create an array\n",
        "print(arr.size*arr.itemsize)\n",
        "# print(arr.itemsize)\n",
        "\n",
        "# 28000 bytes -taken by lis\n",
        "# 8000 bytes -taken by arr\n",
        "\n",
        "#Byte size of elements varies with Operating system"
      ],
      "metadata": {
        "colab": {
          "base_uri": "https://localhost:8080/"
        },
        "id": "47d5w76amYA6",
        "outputId": "3439bf2d-c4e8-4e9d-f94d-1a4c13be7701"
      },
      "execution_count": null,
      "outputs": [
        {
          "output_type": "stream",
          "name": "stdout",
          "text": [
            "28000\n",
            "8000\n",
            "8\n"
          ]
        }
      ]
    },
    {
      "cell_type": "markdown",
      "source": [
        "#takes less time"
      ],
      "metadata": {
        "id": "ZjpwwUz2JVSX"
      }
    },
    {
      "cell_type": "code",
      "source": [
        "sz=1000000\n",
        "\n",
        "lis1=range(sz)\n",
        "lis2=range(sz)\n",
        "\n",
        "arr1=np.arange(sz)\n",
        "arr2=np.arange(sz)\n",
        "\n",
        "#python list\n",
        "\n",
        "start=time.time()\n",
        "print(time.time()-start)\n",
        "res= [(i+j)for i,j in zip(lis1,lis2)]\n",
        "#it will take 1st ele from lis1 and lis2 and add them togrther in ele1 of res\n",
        "print(\"Time taken by python list\",(time.time()-start)*1000) #sec\n",
        "\n",
        "\n",
        "#numpy array\n",
        "\n",
        "start=time.time()\n",
        "result=arr1+arr2\n",
        "print(\"Time taken by nparray\",(time.time()-start)*1000)"
      ],
      "metadata": {
        "colab": {
          "base_uri": "https://localhost:8080/"
        },
        "id": "d7vYOLbqri16",
        "outputId": "93d31742-54e0-4b69-fe25-62e872693fda"
      },
      "execution_count": null,
      "outputs": [
        {
          "output_type": "stream",
          "name": "stdout",
          "text": [
            "0.00011229515075683594\n",
            "Time taken by python list 113.46936225891113\n",
            "Time taken by nparray 4.576921463012695\n"
          ]
        }
      ]
    },
    {
      "cell_type": "markdown",
      "source": [
        "#Very convinient to use"
      ],
      "metadata": {
        "id": "1XaGqs1BJbS1"
      }
    },
    {
      "cell_type": "code",
      "source": [
        "#numpy why convinient\n",
        "\n",
        "arr1=np.array([1,2,3])\n",
        "arr2=np.array([6,90,5])\n",
        "print(arr1+arr2,arr1-arr2,arr1*arr2,arr1/arr2)"
      ],
      "metadata": {
        "colab": {
          "base_uri": "https://localhost:8080/"
        },
        "id": "2qaPpliE4njH",
        "outputId": "2c3671cf-c51e-4a15-8c86-b44952958649"
      },
      "execution_count": null,
      "outputs": [
        {
          "output_type": "stream",
          "name": "stdout",
          "text": [
            "[ 7 92  8] [ -5 -88  -2] [  6 180  15] [0.16666667 0.02222222 0.6       ]\n"
          ]
        }
      ]
    },
    {
      "cell_type": "markdown",
      "source": [
        "#Array operations"
      ],
      "metadata": {
        "id": "5S0Mzd7tJgnb"
      }
    },
    {
      "cell_type": "code",
      "source": [
        "arr = np.array([1, 2, 3, 4, 5])\n",
        "print(arr)\n",
        "print(type(arr))\n",
        "print(np.__version__) #checking the version"
      ],
      "metadata": {
        "colab": {
          "base_uri": "https://localhost:8080/"
        },
        "id": "skC7LRilJms9",
        "outputId": "a0ca99a4-8b8c-4c5e-bc0f-bbbae42c138f"
      },
      "execution_count": null,
      "outputs": [
        {
          "output_type": "stream",
          "name": "stdout",
          "text": [
            "[1 2 3 4 5]\n",
            "<class 'numpy.ndarray'>\n",
            "1.23.5\n"
          ]
        }
      ]
    },
    {
      "cell_type": "code",
      "source": [
        "#Dimensions in arrays\n",
        "arr = np.array(333) #0 dimensional\n",
        "print(arr)\n",
        "\n",
        "arr1 = np.array([1, 2, 3, 4, 5])#1d\n",
        "print(arr1)\n",
        "\n",
        "arr2 = np.array([[1, 2, 3], [4, 5, 6]]) #2d\n",
        "print(arr2)\n",
        "print()\n",
        "arr3 = np.array([[[1, 2, 3], [4, 5, 6]], [[1, 2, 3], [4, 5, 6]]]) #3d\n",
        "print(arr3)\n",
        "\n",
        "\n",
        "# arr.ndim---to check the dimension\n",
        "print(arr.ndim)\n",
        "print(arr1.ndim)\n",
        "print(arr2.ndim)\n",
        "print(arr3.ndim)\n",
        "\n",
        "#To know the size\n",
        "print(\"Item size is\",arr.itemsize,arr3.itemsize) # 8 cz int\n",
        "\n",
        "#to create higher dimension\n",
        "arrH = np.array([1, 2, 3, 4], ndmin=5)\n",
        "print(arrH)\n",
        "print('number of dimensions :', arrH.ndim)"
      ],
      "metadata": {
        "colab": {
          "base_uri": "https://localhost:8080/"
        },
        "id": "Kx8NWGgPL-zt",
        "outputId": "b62edc8b-888b-483c-8a21-d12c4b40138d"
      },
      "execution_count": null,
      "outputs": [
        {
          "output_type": "stream",
          "name": "stdout",
          "text": [
            "333\n",
            "[1 2 3 4 5]\n",
            "[[1 2 3]\n",
            " [4 5 6]]\n",
            "\n",
            "[[[1 2 3]\n",
            "  [4 5 6]]\n",
            "\n",
            " [[1 2 3]\n",
            "  [4 5 6]]]\n",
            "0\n",
            "1\n",
            "2\n",
            "3\n",
            "Item size is 8 8\n",
            "[[[[[1 2 3 4]]]]]\n",
            "number of dimensions : 5\n"
          ]
        }
      ]
    },
    {
      "cell_type": "code",
      "source": [
        "#to change dataType\n",
        "arr2 = np.array([[1, 2, 3], [4, 5, 6]],dtype=np.float32)\n",
        "print(arr2,arr2.itemsize)"
      ],
      "metadata": {
        "colab": {
          "base_uri": "https://localhost:8080/"
        },
        "id": "-IhS9L2iOu-6",
        "outputId": "19e69f1d-e9ad-4a69-fb52-85274fad07f3"
      },
      "execution_count": null,
      "outputs": [
        {
          "output_type": "stream",
          "name": "stdout",
          "text": [
            "[[1. 2. 3.]\n",
            " [4. 5. 6.]] 4\n"
          ]
        }
      ]
    },
    {
      "cell_type": "code",
      "source": [
        "#int and float together\n",
        "a=np.array([[1,2,3],[0.8,.9,0.7]],dtype='int64')\n",
        "b=np.array([0.7,0.8,0.4])\n",
        "c=np.array([2,5,34 ])\n",
        "print(\"item size is \",a.itemsize,\"and data type is\",a.dtype,\"size of a is:\",a.size)\n",
        "\n",
        "#itemsize is koto byte lagtese per element\n",
        "#size is number of total element\n",
        "#total size gives the product of these two\n",
        "#intbit->int32->8 byte->32bit\n",
        "\n",
        "print(type(a))\n",
        "print(a.dtype)\n",
        "print(a.ndim)\n",
        "print(a.shape) #(r,c)\n",
        "\n",
        "#get total size\n",
        "print(a.nbytes)\n",
        "print(a.itemsize*a.size) #8*6"
      ],
      "metadata": {
        "id": "AGhYfHC_acci",
        "colab": {
          "base_uri": "https://localhost:8080/"
        },
        "outputId": "92ae39b4-301d-46d9-f8a9-0bc7bb9fe79e"
      },
      "execution_count": null,
      "outputs": [
        {
          "output_type": "stream",
          "name": "stdout",
          "text": [
            "item size is  8 and data type is int64 size of a is: 6\n",
            "<class 'numpy.ndarray'>\n",
            "int64\n",
            "2\n",
            "(2, 3)\n",
            "48\n",
            "48\n"
          ]
        }
      ]
    },
    {
      "cell_type": "code",
      "source": [],
      "metadata": {
        "id": "gkBLzK1FPAAJ"
      },
      "execution_count": null,
      "outputs": []
    },
    {
      "cell_type": "markdown",
      "source": [
        "# Accessing/manipulating row column"
      ],
      "metadata": {
        "id": "PGzbVLCnO_Gv"
      }
    },
    {
      "cell_type": "code",
      "source": [
        "#column number is not same/ 1d arrays don't have the same ammount of elements\n",
        "\n",
        "arr=np.array([[1,2,3,45,8,7,9],[65,45,3,0,8]])\n",
        "print(arr)\n",
        "print(arr.shape)\n",
        "ben=np.array([[1,2,3],[1,2,3,8]])\n",
        "print(ben)\n",
        "print(ben.shape)"
      ],
      "metadata": {
        "colab": {
          "base_uri": "https://localhost:8080/"
        },
        "id": "13uByZZCzz3y",
        "outputId": "f8f9f61b-cee3-474d-ab5e-85bde4b04150"
      },
      "execution_count": null,
      "outputs": [
        {
          "output_type": "stream",
          "name": "stdout",
          "text": [
            "[list([1, 2, 3, 45, 8, 7, 9]) list([65, 45, 3, 0, 8])]\n",
            "(2,)\n",
            "[list([1, 2, 3]) list([1, 2, 3, 8])]\n",
            "(2,)\n"
          ]
        },
        {
          "output_type": "stream",
          "name": "stderr",
          "text": [
            "<ipython-input-32-551ed5e347a0>:3: VisibleDeprecationWarning: Creating an ndarray from ragged nested sequences (which is a list-or-tuple of lists-or-tuples-or ndarrays with different lengths or shapes) is deprecated. If you meant to do this, you must specify 'dtype=object' when creating the ndarray.\n",
            "  arr=np.array([[1,2,3,45,8,7,9],[65,45,3,0,8]])\n",
            "<ipython-input-32-551ed5e347a0>:6: VisibleDeprecationWarning: Creating an ndarray from ragged nested sequences (which is a list-or-tuple of lists-or-tuples-or ndarrays with different lengths or shapes) is deprecated. If you meant to do this, you must specify 'dtype=object' when creating the ndarray.\n",
            "  ben=np.array([[1,2,3],[1,2,3,8]])\n"
          ]
        }
      ]
    },
    {
      "cell_type": "code",
      "source": [
        "#when it has numbers of elemnets\n",
        "\n",
        "arr=np.array([[1,2,3,45,9],[65,45,3,0,8]]) #2x5\n",
        "print(arr)\n",
        "arr.itemsize #8\n",
        "arr.dtype #dtype('int64')\n",
        "\n",
        "#To get specific element-->>arr[r,c]\n",
        "print(arr[1,4])\n",
        "print(arr[1,-1])\n",
        "\n",
        "#To get specific row-->>arr[r,:]\n",
        "print(arr[1,:])\n",
        "\n",
        "#To get specific coulmn-->>arr[:,c]\n",
        "print(arr[:,4])\n",
        "\n",
        "#getting a little more fancy[strt:end:step]\n",
        "print(arr[0,1:4:2])\n",
        "\n",
        "#change value\n",
        "arr[1,4]=770\n",
        "print(arr)\n",
        "arr[:,3]=[6,6]\n",
        "print(arr)\n",
        "\n",
        "#on 3d\n",
        "arr3 = np.array([[[1, 2, 3], [4, 5, 6]], [[1, 2, 3], [4, 5, 6]]])\n",
        "arr3[1,1,1]=1\n",
        "print(arr3)\n",
        "arr3[1,0]=[3,3,3]\n",
        "print(arr3)\n",
        "print()\n",
        "print(arr3[:,1])"
      ],
      "metadata": {
        "colab": {
          "base_uri": "https://localhost:8080/"
        },
        "id": "RVWMYTW3QhKo",
        "outputId": "204b25a3-18fa-4e9b-afc0-7ca9b36234ae"
      },
      "execution_count": null,
      "outputs": [
        {
          "output_type": "stream",
          "name": "stdout",
          "text": [
            "[[ 1  2  3 45  9]\n",
            " [65 45  3  0  8]]\n",
            "8\n",
            "8\n",
            "[65 45  3  0  8]\n",
            "[9 8]\n",
            "[ 2 45]\n",
            "[[  1   2   3  45   9]\n",
            " [ 65  45   3   0 770]]\n",
            "[[  1   2   3   6   9]\n",
            " [ 65  45   3   6 770]]\n",
            "[[[1 2 3]\n",
            "  [4 5 6]]\n",
            "\n",
            " [[1 2 3]\n",
            "  [4 1 6]]]\n",
            "[[[1 2 3]\n",
            "  [4 5 6]]\n",
            "\n",
            " [[3 3 3]\n",
            "  [4 1 6]]]\n",
            "\n",
            "[[4 5 6]\n",
            " [4 1 6]]\n"
          ]
        }
      ]
    },
    {
      "cell_type": "markdown",
      "source": [
        "# Initializing different kind of array"
      ],
      "metadata": {
        "id": "YOfswJ3vxF6T"
      }
    },
    {
      "cell_type": "code",
      "source": [
        "#all zeros\n",
        "np.zeros(5)\n",
        "np.zeros((2,4)) #inside it will have another paranthesis\n",
        "np.zeros((2,2,3)) #last 2 are rows and columns\n",
        "np.zeros((2,2,3,3))\n",
        "\n",
        "#all ones np.ones()\n",
        "np.ones((4,2,2),dtype=\"int32\")"
      ],
      "metadata": {
        "id": "w2pIOuMKnT8S",
        "colab": {
          "base_uri": "https://localhost:8080/"
        },
        "outputId": "63fdd6b8-893a-40bc-e4be-3c4b4f624d53"
      },
      "execution_count": null,
      "outputs": [
        {
          "output_type": "execute_result",
          "data": {
            "text/plain": [
              "array([[[1, 1],\n",
              "        [1, 1]],\n",
              "\n",
              "       [[1, 1],\n",
              "        [1, 1]],\n",
              "\n",
              "       [[1, 1],\n",
              "        [1, 1]],\n",
              "\n",
              "       [[1, 1],\n",
              "        [1, 1]]], dtype=int32)"
            ]
          },
          "metadata": {},
          "execution_count": 13
        }
      ]
    },
    {
      "cell_type": "code",
      "source": [
        "#any other number-2 parameter\n",
        "np.full((2,2),99)\n",
        "#np.full(a.shape,55)"
      ],
      "metadata": {
        "colab": {
          "base_uri": "https://localhost:8080/"
        },
        "id": "mcpegfQvxj0W",
        "outputId": "3b3e9afe-24aa-42c0-a989-d6a710277b2b"
      },
      "execution_count": null,
      "outputs": [
        {
          "output_type": "execute_result",
          "data": {
            "text/plain": [
              "array([[99, 99],\n",
              "       [99, 99]])"
            ]
          },
          "metadata": {},
          "execution_count": 14
        }
      ]
    },
    {
      "cell_type": "code",
      "source": [
        "#random decimle number #no tuple\n",
        "np.random.rand(4,2)\n",
        "\n",
        "#if want to take any arr's shape\n",
        "#np.random.random_sample(a.shape)\n",
        "\n"
      ],
      "metadata": {
        "colab": {
          "base_uri": "https://localhost:8080/"
        },
        "id": "9hfPKfJbzs-v",
        "outputId": "03fa5d33-2cce-4329-cd4b-c14c31c38f53"
      },
      "execution_count": null,
      "outputs": [
        {
          "output_type": "execute_result",
          "data": {
            "text/plain": [
              "array([[0.46206399, 0.73604834],\n",
              "       [0.67080322, 0.03421686],\n",
              "       [0.81751804, 0.64970469],\n",
              "       [0.6572831 , 0.30956874]])"
            ]
          },
          "metadata": {},
          "execution_count": 17
        }
      ]
    },
    {
      "cell_type": "code",
      "source": [
        "#random int\n",
        "np.random.randint(-4,7,size=(3,3))"
      ],
      "metadata": {
        "colab": {
          "base_uri": "https://localhost:8080/"
        },
        "id": "4kd_S_Ws0Jmb",
        "outputId": "10afa32d-dcba-4c21-837b-0ea12ba0688d"
      },
      "execution_count": null,
      "outputs": [
        {
          "output_type": "execute_result",
          "data": {
            "text/plain": [
              "array([[ 3,  4, -2],\n",
              "       [-3,  6,  0],\n",
              "       [-4,  0,  1]])"
            ]
          },
          "metadata": {},
          "execution_count": 19
        }
      ]
    },
    {
      "cell_type": "code",
      "source": [
        "#identity matrix\n",
        "np.identity(4)"
      ],
      "metadata": {
        "colab": {
          "base_uri": "https://localhost:8080/"
        },
        "id": "DzQxZaWe1aB7",
        "outputId": "05e8eb02-8f99-497a-b762-27f19df2e552"
      },
      "execution_count": null,
      "outputs": [
        {
          "output_type": "execute_result",
          "data": {
            "text/plain": [
              "array([[1., 0., 0., 0.],\n",
              "       [0., 1., 0., 0.],\n",
              "       [0., 0., 1., 0.],\n",
              "       [0., 0., 0., 1.]])"
            ]
          },
          "metadata": {},
          "execution_count": 20
        }
      ]
    },
    {
      "cell_type": "code",
      "source": [
        "#repeat\n",
        "a=np.array([1,5,7])\n",
        "rep=np.repeat(a,3,axis=0)\n",
        "print(rep)\n",
        "\n",
        "a=np.array([[1,5,7]])\n",
        "rep=np.repeat(a,3,axis=0)\n",
        "print(rep)\n",
        "\n",
        "rep1=np.repeat(a,3,axis=1)\n",
        "print(rep1)"
      ],
      "metadata": {
        "colab": {
          "base_uri": "https://localhost:8080/"
        },
        "id": "HUvE7V-A1ulI",
        "outputId": "4d306c8d-4f10-4290-ef9c-5b8c1c588a4e"
      },
      "execution_count": null,
      "outputs": [
        {
          "output_type": "stream",
          "name": "stdout",
          "text": [
            "[1 1 1 5 5 5 7 7 7]\n",
            "[[1 5 7]\n",
            " [1 5 7]\n",
            " [1 5 7]]\n",
            "[[1 1 1 5 5 5 7 7 7]]\n"
          ]
        }
      ]
    },
    {
      "cell_type": "code",
      "source": [
        "output=np.ones((5,5))\n",
        "print(output)\n",
        "\n",
        "z=np.zeros((3,3))\n",
        "z[1,1]=9\n",
        "print(z)\n",
        "\n",
        "output[1:4,1:4]=z\n",
        "print(output)"
      ],
      "metadata": {
        "colab": {
          "base_uri": "https://localhost:8080/"
        },
        "id": "Ojd5-7yY3W4e",
        "outputId": "b3a34db0-725f-4306-8491-4bb9522f8e23"
      },
      "execution_count": null,
      "outputs": [
        {
          "output_type": "stream",
          "name": "stdout",
          "text": [
            "[[1. 1. 1. 1. 1.]\n",
            " [1. 1. 1. 1. 1.]\n",
            " [1. 1. 1. 1. 1.]\n",
            " [1. 1. 1. 1. 1.]\n",
            " [1. 1. 1. 1. 1.]]\n",
            "[[0. 0. 0.]\n",
            " [0. 9. 0.]\n",
            " [0. 0. 0.]]\n",
            "[[1. 1. 1. 1. 1.]\n",
            " [1. 0. 0. 0. 1.]\n",
            " [1. 0. 9. 0. 1.]\n",
            " [1. 0. 0. 0. 1.]\n",
            " [1. 1. 1. 1. 1.]]\n"
          ]
        }
      ]
    },
    {
      "cell_type": "code",
      "source": [
        "#becareful of copying an array!!!\n",
        "c1=np.array([9,7,9])\n",
        "c2=c1\n",
        "print(c2)\n",
        "\n",
        "c2[2]=10\n",
        "print(c2,c1)\n",
        "\n",
        "#both got changed"
      ],
      "metadata": {
        "id": "7-LNosRd5-km",
        "colab": {
          "base_uri": "https://localhost:8080/"
        },
        "outputId": "77b352e6-83cc-47b1-cb47-d9fc9cb4a9bc"
      },
      "execution_count": null,
      "outputs": [
        {
          "output_type": "stream",
          "name": "stdout",
          "text": [
            "[9 7 9]\n",
            "[ 9  7 10] [ 9  7 10]\n"
          ]
        }
      ]
    },
    {
      "cell_type": "markdown",
      "source": [
        "Mathematical operation"
      ],
      "metadata": {
        "id": "Z4TMcqWeZW1M"
      }
    },
    {
      "cell_type": "code",
      "source": [
        "#mathematical operation in one mat\n",
        "mat=np.array([1,6,7,8])\n",
        "\n",
        "mat+=2\n",
        "print(mat)\n",
        "mat-=3\n",
        "print(mat)\n",
        "print(mat*2)\n",
        "print(mat/2)\n",
        "print(mat**2)"
      ],
      "metadata": {
        "colab": {
          "base_uri": "https://localhost:8080/"
        },
        "id": "uqm1hVbBXBcU",
        "outputId": "f8002bf0-3346-4371-ea77-b543706e4463"
      },
      "execution_count": null,
      "outputs": [
        {
          "output_type": "stream",
          "name": "stdout",
          "text": [
            "[ 3  8  9 10]\n",
            "[0 5 6 7]\n",
            "[ 0 10 12 14]\n",
            "[0.  2.5 3.  3.5]\n",
            "[ 0 25 36 49]\n"
          ]
        }
      ]
    },
    {
      "cell_type": "code",
      "source": [
        "#mathematical operation in  two matrix\n",
        "#a+b\n",
        "#a-b\n"
      ],
      "metadata": {
        "id": "LGGIu02VZodj"
      },
      "execution_count": null,
      "outputs": []
    },
    {
      "cell_type": "code",
      "source": [
        "#sin\n",
        "tri=np.array([0,30,60,90])\n",
        "np.sin(tri)"
      ],
      "metadata": {
        "colab": {
          "base_uri": "https://localhost:8080/"
        },
        "id": "dbQR-hZlbLjK",
        "outputId": "33b9eb2a-9b3a-4a83-e912-3df2c94f53aa"
      },
      "execution_count": null,
      "outputs": [
        {
          "output_type": "execute_result",
          "data": {
            "text/plain": [
              "array([ 0.        , -0.98803162, -0.30481062,  0.89399666])"
            ]
          },
          "metadata": {},
          "execution_count": 14
        }
      ]
    },
    {
      "cell_type": "markdown",
      "source": [
        "#Linear Algebra"
      ],
      "metadata": {
        "id": "8BDmedHtcYJH"
      }
    },
    {
      "cell_type": "code",
      "source": [
        "a=np.ones((2,3))\n",
        "b=np.full((3,2),2)\n",
        "print(a,b)\n",
        "\n",
        "#to multiply 1st row=2nd col\n",
        "mul=np.matmul(a,b)\n",
        "print(mul)"
      ],
      "metadata": {
        "id": "UP8WthjxcBZu",
        "colab": {
          "base_uri": "https://localhost:8080/"
        },
        "outputId": "9ef1fc7b-4823-4452-bac8-3eeef3a1f01c"
      },
      "execution_count": null,
      "outputs": [
        {
          "output_type": "stream",
          "name": "stdout",
          "text": [
            "[[1. 1. 1.]\n",
            " [1. 1. 1.]] [[2 2]\n",
            " [2 2]\n",
            " [2 2]]\n",
            "[[6. 6.]\n",
            " [6. 6.]]\n"
          ]
        }
      ]
    },
    {
      "cell_type": "code",
      "source": [
        "#determinant of mat\n",
        "\n",
        "c=np.identity(3)\n",
        "np.linalg.det(c)"
      ],
      "metadata": {
        "colab": {
          "base_uri": "https://localhost:8080/"
        },
        "id": "xdv_DdUxm1Vf",
        "outputId": "34551f64-83eb-40d0-cdd9-ec7623f8ad51"
      },
      "execution_count": null,
      "outputs": [
        {
          "output_type": "execute_result",
          "data": {
            "text/plain": [
              "1.0"
            ]
          },
          "metadata": {},
          "execution_count": 6
        }
      ]
    },
    {
      "cell_type": "code",
      "source": [
        "#eigenvalue\n",
        "#matrix norm\n",
        "#inverse"
      ],
      "metadata": {
        "id": "7ok_qnwCoQml"
      },
      "execution_count": null,
      "outputs": []
    },
    {
      "cell_type": "markdown",
      "source": [
        "# Statistics"
      ],
      "metadata": {
        "id": "tG5tr_m-p6ZX"
      }
    },
    {
      "cell_type": "code",
      "source": [
        "#axis=0=column, 1=row wise\n",
        "stats=np.array([[6,90,5],[2,5,67]]) #same num of ele in eachn row\n",
        "np.min(stats,axis=1)"
      ],
      "metadata": {
        "colab": {
          "base_uri": "https://localhost:8080/"
        },
        "id": "ZfZHgxL3p9xS",
        "outputId": "9e9c5de3-acef-4cc5-bf6a-04e58b30313d"
      },
      "execution_count": null,
      "outputs": [
        {
          "output_type": "execute_result",
          "data": {
            "text/plain": [
              "array([5, 2])"
            ]
          },
          "metadata": {},
          "execution_count": 11
        }
      ]
    },
    {
      "cell_type": "code",
      "source": [
        "np.max(stats,axis=1)"
      ],
      "metadata": {
        "colab": {
          "base_uri": "https://localhost:8080/"
        },
        "id": "mfli-QD-q_ST",
        "outputId": "0d559d1f-5e03-4c74-ac5f-4df89e1f8117"
      },
      "execution_count": null,
      "outputs": [
        {
          "output_type": "execute_result",
          "data": {
            "text/plain": [
              "array([90, 67])"
            ]
          },
          "metadata": {},
          "execution_count": 13
        }
      ]
    },
    {
      "cell_type": "code",
      "source": [
        "np.sum(stats)"
      ],
      "metadata": {
        "colab": {
          "base_uri": "https://localhost:8080/"
        },
        "id": "ooLhu7_pzyq-",
        "outputId": "720e6562-3b09-472f-a589-b54cefcbc1c8"
      },
      "execution_count": null,
      "outputs": [
        {
          "output_type": "execute_result",
          "data": {
            "text/plain": [
              "175"
            ]
          },
          "metadata": {},
          "execution_count": 14
        }
      ]
    },
    {
      "cell_type": "code",
      "source": [
        "np.sum(stats,axis=0)"
      ],
      "metadata": {
        "colab": {
          "base_uri": "https://localhost:8080/"
        },
        "id": "LFfISQgb16bJ",
        "outputId": "d3d4dd72-0895-4077-ff61-63983832abad"
      },
      "execution_count": null,
      "outputs": [
        {
          "output_type": "execute_result",
          "data": {
            "text/plain": [
              "array([ 8, 95, 72])"
            ]
          },
          "metadata": {},
          "execution_count": 16
        }
      ]
    },
    {
      "cell_type": "markdown",
      "source": [
        "#Reorganizing arrays"
      ],
      "metadata": {
        "id": "CpJQqNCf3wfR"
      }
    },
    {
      "cell_type": "code",
      "source": [
        "before=np.array([[6,90,5],[2,5,67]])\n",
        "print(before)\n",
        "\n",
        "after=before.reshape((3,2))#6,1\n",
        "print(after)\n",
        "\n",
        "#will show na error when you'll have less ele than required"
      ],
      "metadata": {
        "colab": {
          "base_uri": "https://localhost:8080/"
        },
        "id": "a1v6fUQO2hFG",
        "outputId": "bcce9dd1-4ec8-4b11-de9a-9d9345ca4f85"
      },
      "execution_count": null,
      "outputs": [
        {
          "output_type": "stream",
          "name": "stdout",
          "text": [
            "[[ 6 90  5]\n",
            " [ 2  5 67]]\n",
            "[[ 6 90]\n",
            " [ 5  2]\n",
            " [ 5 67]]\n"
          ]
        }
      ]
    },
    {
      "cell_type": "code",
      "source": [
        "#vertically stacking vectors\n",
        "\n",
        "v1=np.array([1,2,3,4])\n",
        "v2=np.array([6,7,9,4])\n",
        "\n",
        "np.vstack([v1,v2,v1,v1])"
      ],
      "metadata": {
        "colab": {
          "base_uri": "https://localhost:8080/"
        },
        "id": "Y3-0Fw0Q7_q4",
        "outputId": "9553c089-b3c1-4331-a521-c94d127c03e3"
      },
      "execution_count": null,
      "outputs": [
        {
          "output_type": "execute_result",
          "data": {
            "text/plain": [
              "array([[1, 2, 3, 4],\n",
              "       [6, 7, 9, 4],\n",
              "       [1, 2, 3, 4],\n",
              "       [1, 2, 3, 4]])"
            ]
          },
          "metadata": {},
          "execution_count": 22
        }
      ]
    },
    {
      "cell_type": "code",
      "source": [
        "#miscellaneous\n",
        "filedata=np.genfromtext(\"data.txt\",delimiter=\",\")\n",
        "filedata=filedata.astype(\"int32\")\n",
        "print(filedata)\n",
        "\n",
        "#bollen masking and advance indexing\n",
        "filedata[filedata>50]"
      ],
      "metadata": {
        "colab": {
          "base_uri": "https://localhost:8080/",
          "height": 366
        },
        "id": "SyttsYs6-EP1",
        "outputId": "c09926ab-1c76-4c75-fed6-6a48a8b10ebd"
      },
      "execution_count": null,
      "outputs": [
        {
          "output_type": "error",
          "ename": "AttributeError",
          "evalue": "ignored",
          "traceback": [
            "\u001b[0;31m---------------------------------------------------------------------------\u001b[0m",
            "\u001b[0;31mAttributeError\u001b[0m                            Traceback (most recent call last)",
            "\u001b[0;32m<ipython-input-23-eaafbfaeafab>\u001b[0m in \u001b[0;36m<cell line: 2>\u001b[0;34m()\u001b[0m\n\u001b[1;32m      1\u001b[0m \u001b[0;31m#miscellaneous\u001b[0m\u001b[0;34m\u001b[0m\u001b[0;34m\u001b[0m\u001b[0m\n\u001b[0;32m----> 2\u001b[0;31m \u001b[0mfiledata\u001b[0m\u001b[0;34m=\u001b[0m\u001b[0mnp\u001b[0m\u001b[0;34m.\u001b[0m\u001b[0mgenfromtext\u001b[0m\u001b[0;34m(\u001b[0m\u001b[0;34m\"data.txt\"\u001b[0m\u001b[0;34m,\u001b[0m\u001b[0mdelimiter\u001b[0m\u001b[0;34m=\u001b[0m\u001b[0;34m\",\"\u001b[0m\u001b[0;34m)\u001b[0m\u001b[0;34m\u001b[0m\u001b[0;34m\u001b[0m\u001b[0m\n\u001b[0m\u001b[1;32m      3\u001b[0m \u001b[0mfiledata\u001b[0m\u001b[0;34m=\u001b[0m\u001b[0mfiledata\u001b[0m\u001b[0;34m.\u001b[0m\u001b[0mastype\u001b[0m\u001b[0;34m(\u001b[0m\u001b[0;34m\"int32\"\u001b[0m\u001b[0;34m)\u001b[0m\u001b[0;34m\u001b[0m\u001b[0;34m\u001b[0m\u001b[0m\n\u001b[1;32m      4\u001b[0m \u001b[0mprint\u001b[0m\u001b[0;34m(\u001b[0m\u001b[0mfiledata\u001b[0m\u001b[0;34m)\u001b[0m\u001b[0;34m\u001b[0m\u001b[0;34m\u001b[0m\u001b[0m\n",
            "\u001b[0;32m/usr/local/lib/python3.10/dist-packages/numpy/__init__.py\u001b[0m in \u001b[0;36m__getattr__\u001b[0;34m(attr)\u001b[0m\n\u001b[1;32m    309\u001b[0m             \u001b[0;32mreturn\u001b[0m \u001b[0mTester\u001b[0m\u001b[0;34m\u001b[0m\u001b[0;34m\u001b[0m\u001b[0m\n\u001b[1;32m    310\u001b[0m \u001b[0;34m\u001b[0m\u001b[0m\n\u001b[0;32m--> 311\u001b[0;31m         raise AttributeError(\"module {!r} has no attribute \"\n\u001b[0m\u001b[1;32m    312\u001b[0m                              \"{!r}\".format(__name__, attr))\n\u001b[1;32m    313\u001b[0m \u001b[0;34m\u001b[0m\u001b[0m\n",
            "\u001b[0;31mAttributeError\u001b[0m: module 'numpy' has no attribute 'genfromtext'"
          ]
        }
      ]
    },
    {
      "cell_type": "code",
      "source": [
        "#wanting different rows and columns\n",
        "#a[row,column]\n",
        "#a[[0,1,2,3],[1,2,3,4]]\n",
        "#a[[0,4,5],3:]"
      ],
      "metadata": {
        "id": "1MK-DRc1_HX8"
      },
      "execution_count": null,
      "outputs": []
    },
    {
      "cell_type": "markdown",
      "source": [
        "![image.png](data:image/png;base64,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)"
      ],
      "metadata": {
        "id": "v71fzeyoBwx8"
      }
    },
    {
      "cell_type": "code",
      "source": [],
      "metadata": {
        "id": "iQ7XE9VDB6xN"
      },
      "execution_count": null,
      "outputs": []
    }
  ]
}